{
 "cells": [
  {
   "cell_type": "code",
   "execution_count": 4,
   "metadata": {},
   "outputs": [
    {
     "data": {
      "text/plain": [
       "True"
      ]
     },
     "execution_count": 4,
     "metadata": {},
     "output_type": "execute_result"
    }
   ],
   "source": [
    "import cv2\n",
    "\n",
    "# Read the image\n",
    "image = cv2.imread(\"lena512color.jpg\")\n",
    "\n",
    "# Convert the image to grayscale\n",
    "grey_image = cv2.cvtColor(image, cv2.COLOR_BGR2GRAY)\n",
    "\n",
    "# Invert the grayscale image\n",
    "invert = cv2.bitwise_not(grey_image)\n",
    "\n",
    "# Apply Gaussian Blur to the inverted image\n",
    "blur = cv2.GaussianBlur(invert, (21, 21), 0)\n",
    "\n",
    "# Invert the blurred image\n",
    "inverted_blur = cv2.bitwise_not(blur)\n",
    "\n",
    "# Create the sketch by dividing the grayscale image by the inverted blur\n",
    "sketch = cv2.divide(grey_image, inverted_blur, scale=256.0)\n",
    "\n",
    "# Save the resulting sketch image\n",
    "cv2.imwrite(\"sketch.png\", sketch)\n"
   ]
  }
 ],
 "metadata": {
  "kernelspec": {
   "display_name": "venv",
   "language": "python",
   "name": "python3"
  },
  "language_info": {
   "codemirror_mode": {
    "name": "ipython",
    "version": 3
   },
   "file_extension": ".py",
   "mimetype": "text/x-python",
   "name": "python",
   "nbconvert_exporter": "python",
   "pygments_lexer": "ipython3",
   "version": "3.12.2"
  }
 },
 "nbformat": 4,
 "nbformat_minor": 2
}
