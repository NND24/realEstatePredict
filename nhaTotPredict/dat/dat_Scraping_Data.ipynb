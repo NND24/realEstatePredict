{
 "cells": [
  {
   "cell_type": "code",
   "execution_count": 6,
   "metadata": {},
   "outputs": [],
   "source": [
    "import pandas as pd\n",
    "from bs4 import BeautifulSoup\n",
    "from selenium import webdriver\n",
    "from selenium.webdriver.chrome.service import Service\n",
    "from selenium.webdriver.chrome.options import Options\n",
    "from webdriver_manager.chrome import ChromeDriverManager\n",
    "from selenium.webdriver.common.by import By\n",
    "from selenium.webdriver.support.ui import WebDriverWait\n",
    "from selenium.webdriver.support import expected_conditions as EC\n",
    "import time\n",
    "import csv"
   ]
  },
  {
   "cell_type": "code",
   "execution_count": 7,
   "metadata": {},
   "outputs": [],
   "source": [
    "# Setup Chrome options\n",
    "chrome_options = Options()\n",
    "chrome_options.add_argument(\"--headless\")  # Run in headless mode (no GUI)\n",
    "chrome_options.add_argument(\"--disable-gpu\")  # Disable GPU acceleration\n",
    "chrome_options.add_argument(\"--no-sandbox\")  # Bypass OS security model\n",
    "chrome_options.add_argument(\"--disable-dev-shm-usage\")  # Overcome limited resource problems\n",
    "chrome_options.add_argument(\"--disable-blink-features=AutomationControlled\")  # Bypass detection\n",
    "chrome_options.add_argument(\"--window-size=1,1\")\n",
    "chrome_options.add_argument(\"user-agent=Mozilla/5.0 (Windows NT 10.0; Win64; x64) AppleWebKit/537.36 (KHTML, like Gecko) Chrome/85.0.4183.102 Safari/537.36\")  # User-agent string\n",
    "\n",
    "# Disable automation controls so that websites don't detect Selenium\n",
    "chrome_options.add_experimental_option(\"excludeSwitches\", [\"enable-automation\"])\n",
    "chrome_options.add_experimental_option('useAutomationExtension', False)"
   ]
  },
  {
   "cell_type": "markdown",
   "metadata": {},
   "source": [
    "# Crawl links"
   ]
  },
  {
   "cell_type": "markdown",
   "metadata": {},
   "source": [
    "### Crawl links mua bán đất from nhatot.com"
   ]
  },
  {
   "cell_type": "code",
   "execution_count": 4,
   "metadata": {},
   "outputs": [
    {
     "name": "stdout",
     "output_type": "stream",
     "text": [
      "done\n"
     ]
    }
   ],
   "source": [
    "# Initialize the array to store the links\n",
    "arr = []\n",
    "start_page = 1\n",
    "end_page = 1\n",
    "\n",
    "# Retry logic\n",
    "MAX_RETRIES = 3\n",
    "\n",
    "for page in range(start_page, end_page + 1):\n",
    "    for attempt in range(MAX_RETRIES):\n",
    "        try:\n",
    "            # Initialize WebDriver for each page\n",
    "            driver = webdriver.Chrome(service=Service(ChromeDriverManager().install()), options=chrome_options)\n",
    "            url = f\"https://www.nhatot.com/mua-ban-dat-tp-ho-chi-minh?page={page}\"\n",
    "            driver.get(url)\n",
    "\n",
    "            # Use explicit wait for better control\n",
    "            WebDriverWait(driver, 15).until(EC.presence_of_element_located((By.CLASS_NAME, 'AdItem_adItem__gDDQT')))\n",
    "\n",
    "            # Parse the page source with BeautifulSoup\n",
    "            soup = BeautifulSoup(driver.page_source, 'html.parser')\n",
    "\n",
    "            # Find all the links with the specified class\n",
    "            a_tags = soup.find_all(\"a\", class_='AdItem_adItem__gDDQT')\n",
    "\n",
    "            # Append the full link to the array\n",
    "            for a in a_tags:\n",
    "                full_link = \"https://www.nhatot.com\" + a['href']\n",
    "                arr.append(full_link)\n",
    "\n",
    "            driver.quit()\n",
    "            break  # Break if the request was successful\n",
    "        except Exception as e:\n",
    "            print(f\"Attempt {attempt + 1} failed: {e}\")\n",
    "            driver.quit()\n",
    "            if attempt + 1 == MAX_RETRIES:\n",
    "                print(\"Max retries reached. Skipping this page.\")\n",
    "            time.sleep(5)  # Wait before retrying\n",
    "\n",
    "# Create a DataFrame from the array\n",
    "df = pd.DataFrame(arr, columns=[\"Links\"])\n",
    "\n",
    "# Export the DataFrame to a CSV file\n",
    "df.to_csv('muaBanDatLinks.csv', index=True)\n",
    "\n",
    "print(\"done\")"
   ]
  },
  {
   "cell_type": "markdown",
   "metadata": {},
   "source": [
    "# Lấy chi tiết data"
   ]
  },
  {
   "cell_type": "markdown",
   "metadata": {},
   "source": [
    "### Lấy chi tiết data mua bán đất"
   ]
  },
  {
   "cell_type": "code",
   "execution_count": 8,
   "metadata": {},
   "outputs": [
    {
     "name": "stdout",
     "output_type": "stream",
     "text": [
      "Processed URL 1: https://www.nhatot.com/mua-ban-dat-thanh-pho-thu-duc-tp-ho-chi-minh/119642177.htm#px=SR-stickyad-[PO-1][PL-top]\n",
      "Processed URL 2: https://www.nhatot.com/mua-ban-dat-huyen-cu-chi-tp-ho-chi-minh/118197275.htm#px=SR-stickyad-[PO-2][PL-top]\n",
      "Processed URL 3: https://www.nhatot.com/mua-ban-dat-quan-binh-tan-tp-ho-chi-minh/119642896.htm#px=SR-stickyad-[PO-3][PL-top]\n"
     ]
    }
   ],
   "source": [
    "from tenacity import retry, wait_fixed, stop_after_attempt\n",
    "\n",
    "# Function to extract data from a single page\n",
    "@retry(wait=wait_fixed(2), stop=stop_after_attempt(3))  # Wait 2 seconds between retries, retry 3 times\n",
    "def extract_data(url):\n",
    "    driver = webdriver.Chrome(service=Service(ChromeDriverManager().install()), options=chrome_options)\n",
    "\n",
    "    try:\n",
    "        driver.get(url)\n",
    "\n",
    "        # Wait until price element is available or timeout after 10 seconds\n",
    "        WebDriverWait(driver, 10).until(EC.presence_of_element_located((By.CLASS_NAME, 'cd9gm5n')))\n",
    "\n",
    "        page_source = driver.page_source\n",
    "        soup = BeautifulSoup(page_source, 'html.parser')\n",
    "\n",
    "        try:\n",
    "            title = soup.find(\"title\").text\n",
    "        except AttributeError:\n",
    "            title = None\n",
    "\n",
    "        try:\n",
    "            price = soup.find(\"b\", class_='pyhk1dv').text\n",
    "        except AttributeError:\n",
    "            price = None\n",
    "\n",
    "        try:\n",
    "            address = soup.find(\"span\", class_=\"flex-1\").text\n",
    "        except (IndexError, AttributeError):\n",
    "            address = None\n",
    "\n",
    "        try:\n",
    "            price_m2 = soup.find(\"span\", itemprop=\"price_m2\").text\n",
    "        except AttributeError:\n",
    "            price_m2 = None\n",
    "\n",
    "        try:\n",
    "            direction = soup.find(\"span\", itemprop=\"direction\").text\n",
    "        except AttributeError:\n",
    "            direction = None\n",
    "            \n",
    "        try:\n",
    "            property_legal_document = soup.find(\"span\", itemprop=\"property_legal_document\").text\n",
    "        except AttributeError:\n",
    "            property_legal_document = None\n",
    "\n",
    "        try:\n",
    "            land_type = soup.find(\"span\", itemprop=\"land_type\").text\n",
    "        except AttributeError:\n",
    "            land_type = None\n",
    "\n",
    "        try:\n",
    "            pty_characteristics = soup.find(\"span\", itemprop=\"pty_characteristics\").text\n",
    "        except AttributeError:\n",
    "            pty_characteristics = None\n",
    "\n",
    "        try:\n",
    "            size = soup.find(\"span\", itemprop=\"size\").text\n",
    "        except AttributeError:\n",
    "            size = None\n",
    "        \n",
    "        try:\n",
    "            width = soup.find(\"span\", itemprop=\"width\").text\n",
    "        except AttributeError:\n",
    "            width = None\n",
    "\n",
    "        try:\n",
    "            length = soup.find(\"span\", itemprop=\"length\").text\n",
    "        except AttributeError:\n",
    "            length = None\n",
    "        \n",
    "        driver.quit()\n",
    "\n",
    "        return {\n",
    "            \"title\": title,\n",
    "            \"price\": price,\n",
    "            \"address\": address,\n",
    "            \"price_m2\": price_m2,\n",
    "            \"direction\": direction,\n",
    "            \"property_legal_document\": property_legal_document,\n",
    "            \"land_type\": land_type,\n",
    "            \"pty_characteristics\": pty_characteristics,\n",
    "            \"size\": size,\n",
    "            \"width\": width,\n",
    "            \"length\": length,\n",
    "        }\n",
    "        \n",
    "    except Exception as e:\n",
    "        print(f\"Error processing URL {url}: {e}\")\n",
    "        driver.quit()\n",
    "        return None\n",
    "\n",
    "# Function to save data to CSV\n",
    "def save_to_csv(data_list, filename='muaBanDat.csv'):\n",
    "    if not data_list:\n",
    "        print(\"No data to save.\")\n",
    "        return\n",
    "    keys = data_list[0].keys()  # Use the keys from the first dictionary as headers\n",
    "    with open(filename, 'w', newline='', encoding='utf-8') as output_file:\n",
    "        dict_writer = csv.DictWriter(output_file, fieldnames=keys)\n",
    "        dict_writer.writeheader()\n",
    "        dict_writer.writerows(data_list)\n",
    "\n",
    "# Main function to process all URLs and save results\n",
    "def main():\n",
    "    # Replace this with your actual DataFrame or list of URLs\n",
    "    frame = pd.read_csv('muaBanDatLinks.csv')  # Assuming you already have the 'Links' data in CSV\n",
    "    all_data = []\n",
    "    i = 0\n",
    "    for url in frame['Links']:\n",
    "        data = extract_data(url)\n",
    "        i+=1\n",
    "        if data:\n",
    "            all_data.append(data)\n",
    "        print(f\"Processed URL {i}: {url}\")\n",
    "\n",
    "    save_to_csv(all_data)\n",
    "\n",
    "if __name__ == \"__main__\":\n",
    "    main()"
   ]
  },
  {
   "cell_type": "code",
   "execution_count": null,
   "metadata": {},
   "outputs": [],
   "source": [
    "frame1 = pd.read_csv('muaBanDat.csv')\n",
    "frame1.head()"
   ]
  }
 ],
 "metadata": {
  "kernelspec": {
   "display_name": "Python 3",
   "language": "python",
   "name": "python3"
  },
  "language_info": {
   "codemirror_mode": {
    "name": "ipython",
    "version": 3
   },
   "file_extension": ".py",
   "mimetype": "text/x-python",
   "name": "python",
   "nbconvert_exporter": "python",
   "pygments_lexer": "ipython3",
   "version": "3.12.2"
  }
 },
 "nbformat": 4,
 "nbformat_minor": 4
}
