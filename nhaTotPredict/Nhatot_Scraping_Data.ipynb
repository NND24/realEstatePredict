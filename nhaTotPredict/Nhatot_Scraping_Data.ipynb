{
 "cells": [
  {
   "cell_type": "code",
   "execution_count": 1,
   "metadata": {},
   "outputs": [],
   "source": [
    "import requests\n",
    "import datetime\n",
    "import pandas as pd \n",
    "import numpy as np\n",
    "from requests_html import HTML\n",
    "from requests_html import HTMLSession\n",
    "from bs4 import BeautifulSoup\n",
    "from selenium import webdriver\n",
    "from selenium.webdriver.chrome.service import Service\n",
    "from webdriver_manager.chrome import ChromeDriverManager\n",
    "import time\n",
    "import random\n",
    "from selenium.common.exceptions import NoSuchElementException, TimeoutException\n",
    "from selenium.webdriver.chrome.options import Options"
   ]
  },
  {
   "cell_type": "markdown",
   "metadata": {},
   "source": [
    "### Crawl links from nhatot.com"
   ]
  },
  {
   "cell_type": "code",
   "execution_count": 2,
   "metadata": {},
   "outputs": [],
   "source": [
    "# Set up Selenium WebDriver\n",
    "driver = webdriver.Chrome(service=Service(ChromeDriverManager().install()))\n",
    "\n",
    "# Initialize the array to store the links\n",
    "arr = []\n",
    "\n",
    "for page in range(2):\n",
    "    try:\n",
    "        url = f\"https://www.nhatot.com/mua-ban-nha-dat?page={page + 1}\"\n",
    "        driver.get(url)\n",
    "\n",
    "        # Wait for JavaScript to render content\n",
    "        driver.implicitly_wait(10)\n",
    "\n",
    "        # Parse the page source with BeautifulSoup\n",
    "        soup = BeautifulSoup(driver.page_source, 'html.parser')\n",
    "\n",
    "        # Find all the links with the specified class\n",
    "        a_tags = soup.find_all(\"a\", class_='AdItem_adItem__gDDQT')\n",
    "\n",
    "        # Append the full link to the array\n",
    "        for a in a_tags:\n",
    "            full_link = \"https://www.nhatot.com\" + a['href']\n",
    "            arr.append(full_link)\n",
    "\n",
    "    except (NoSuchElementException, TimeoutException) as e:\n",
    "        print(f\"Error on page {page + 1}: {e}\")\n",
    "\n",
    "    # Introduce a random delay between requests\n",
    "    time.sleep(random.uniform(5, 10))\n",
    "\n",
    "# Close the WebDriver\n",
    "driver.quit()\n",
    "\n",
    "# Create a DataFrame from the array\n",
    "df = pd.DataFrame(arr, columns=[\"Links\"])\n",
    "\n",
    "# Export the DataFrame to a CSV file\n",
    "df.to_csv('nhatot.csv', index=True)\n",
    "\n",
    "print(\"done\")"
   ]
  },
  {
   "cell_type": "markdown",
   "metadata": {},
   "source": [
    "## crawl data from each link"
   ]
  },
  {
   "cell_type": "code",
   "execution_count": 35,
   "metadata": {},
   "outputs": [
    {
     "data": {
      "text/html": [
       "<div>\n",
       "<style scoped>\n",
       "    .dataframe tbody tr th:only-of-type {\n",
       "        vertical-align: middle;\n",
       "    }\n",
       "\n",
       "    .dataframe tbody tr th {\n",
       "        vertical-align: top;\n",
       "    }\n",
       "\n",
       "    .dataframe thead th {\n",
       "        text-align: right;\n",
       "    }\n",
       "</style>\n",
       "<table border=\"1\" class=\"dataframe\">\n",
       "  <thead>\n",
       "    <tr style=\"text-align: right;\">\n",
       "      <th></th>\n",
       "      <th>Unnamed: 0</th>\n",
       "      <th>Links</th>\n",
       "    </tr>\n",
       "  </thead>\n",
       "  <tbody>\n",
       "    <tr>\n",
       "      <th>0</th>\n",
       "      <td>0</td>\n",
       "      <td>https://www.nhatot.com/mua-ban-nha-dat-huyen-d...</td>\n",
       "    </tr>\n",
       "    <tr>\n",
       "      <th>1</th>\n",
       "      <td>1</td>\n",
       "      <td>https://www.nhatot.com/mua-ban-nha-dat-thanh-p...</td>\n",
       "    </tr>\n",
       "    <tr>\n",
       "      <th>2</th>\n",
       "      <td>2</td>\n",
       "      <td>https://www.nhatot.com/mua-ban-nha-dat-thanh-p...</td>\n",
       "    </tr>\n",
       "    <tr>\n",
       "      <th>3</th>\n",
       "      <td>3</td>\n",
       "      <td>https://www.nhatot.com/mua-ban-nha-dat-thanh-p...</td>\n",
       "    </tr>\n",
       "    <tr>\n",
       "      <th>4</th>\n",
       "      <td>4</td>\n",
       "      <td>https://www.nhatot.com/mua-ban-nha-dat-thanh-p...</td>\n",
       "    </tr>\n",
       "  </tbody>\n",
       "</table>\n",
       "</div>"
      ],
      "text/plain": [
       "   Unnamed: 0                                              Links\n",
       "0           0  https://www.nhatot.com/mua-ban-nha-dat-huyen-d...\n",
       "1           1  https://www.nhatot.com/mua-ban-nha-dat-thanh-p...\n",
       "2           2  https://www.nhatot.com/mua-ban-nha-dat-thanh-p...\n",
       "3           3  https://www.nhatot.com/mua-ban-nha-dat-thanh-p...\n",
       "4           4  https://www.nhatot.com/mua-ban-nha-dat-thanh-p..."
      ]
     },
     "execution_count": 35,
     "metadata": {},
     "output_type": "execute_result"
    }
   ],
   "source": [
    "frame = pd.read_csv('nhatot.csv')\n",
    "frame.head()"
   ]
  },
  {
   "cell_type": "code",
   "execution_count": 36,
   "metadata": {},
   "outputs": [],
   "source": [
    "address=[]\n",
    "estate_condition,price_m2, main_direction,floor,id_house=[],[],[],[],[]\n",
    "balcony_direction,Legal_papers,Character,acreage,bedroom,block=[],[],[],[],[],[]\n",
    "bath_room,types,furniture_condition=[],[],[]\n",
    "person,price=[],[]\n",
    "items =['Tình trạng bất động sản:','Diện tích:','Giá/m2:','Số phòng ngủ:','Tên phân khu/Lô/Block/Tháp:','Tầng số:',\n",
    "       'Số phòng vệ sinh:','Loại hình căn hộ:','Giấy tờ pháp lý:','Mã căn','Tình trạng nội thất:','Hướng cửa chính:',\n",
    "       'Hướng ban công','Đặc điểm căn hộ']"
   ]
  },
  {
   "cell_type": "code",
   "execution_count": 37,
   "metadata": {},
   "outputs": [],
   "source": [
    "def getdata(link):\n",
    "    session = HTMLSession()\n",
    "    url =link\n",
    "    table_class = \".col-md-8\"\n",
    "    #r = requests.get(url)\n",
    "    #if len(r.html.find(\".notfound-message\"))==0:\n",
    "    r = session.get(url)\n",
    "    if len(r.html.find(\".notfound-message\"))==0:\n",
    "        arr=[]\n",
    "        html_text = r.text\n",
    "        r_html = HTML(html = html_text)\n",
    "        r_table = r_html.find(table_class)\n",
    "        if len(r_table) > 0:\n",
    "            test = r_table[0]\n",
    "            inf = test.find('.col-xs-12') \n",
    "            price = test.find('.priceWrapper___3ls0c')\n",
    "            temp = r_html.find('a')\n",
    "            col = temp[6].find('b') \n",
    "            info= inf[1].text+'\\n' \n",
    "            arr.append(info) # dia chi nha\n",
    "            arr.append(inf[3].text) # thong tin can nha\n",
    "            arr.append(price[1].text) # gia nha\n",
    "        else:\n",
    "            return []\n",
    "    \n",
    "    str1 = arr\n",
    "    str1=[arr]\n",
    "    temp = arr[1].split('\\n')\n",
    "    idx=[]\n",
    "    idx.append([arr[0].split('\\n')[0]])\n",
    "    for i in temp:\n",
    "        idx.append(i.split('\\n'))\n",
    "        idx.append([arr[2]])\n",
    "    return idx     "
   ]
  },
  {
   "cell_type": "code",
   "execution_count": 38,
   "metadata": {},
   "outputs": [
    {
     "name": "stdout",
     "output_type": "stream",
     "text": [
      "[]\n",
      "[]\n",
      "[]\n",
      "[]\n",
      "[]\n",
      "[]\n",
      "[]\n",
      "[]\n",
      "[]\n",
      "[]\n",
      "[]\n",
      "[]\n",
      "[]\n",
      "[]\n",
      "[]\n",
      "[]\n",
      "[]\n",
      "[]\n",
      "[]\n",
      "[]\n",
      "[]\n",
      "[]\n",
      "[]\n",
      "[]\n",
      "[]\n"
     ]
    }
   ],
   "source": [
    "for link in frame['Links']:\n",
    "    data = getdata(link)\n",
    "    print(data)\n",
    "    dem =0\n",
    "    if (len(data)>0):\n",
    "        address+=data[0]\n",
    "        for item in items:\n",
    "            mang=[]\n",
    "            flag=0\n",
    "            for i in data:\n",
    "                if item in i[0]:\n",
    "                    mang.append(i[0].split(':')[1])\n",
    "                    flag = 1\n",
    "            dem = dem+1\n",
    "            if flag==1:\n",
    "                if (dem ==1): estate_condition+=mang\n",
    "                elif (dem ==2): acreage+=mang\n",
    "                elif (dem ==3): price_m2+=mang\n",
    "                elif (dem ==4): bedroom+=mang\n",
    "                elif (dem ==5): block+=mang\n",
    "                elif (dem ==6): floor+=mang\n",
    "                elif (dem ==7): bath_room+=mang\n",
    "                elif (dem ==8): types+=mang\n",
    "                elif (dem ==9): Legal_papers+=mang\n",
    "                elif (dem ==10): id_house+=mang\n",
    "                elif (dem ==11): furniture_condition+=mang\n",
    "                elif (dem ==12): main_direction+=mang\n",
    "                elif (dem ==13): balcony_direction+=mang\n",
    "                elif (dem ==14): Character+=mang\n",
    "            else:\n",
    "                if (dem ==1): estate_condition.append(np.nan)\n",
    "                elif (dem ==2): acreage.append(np.nan)\n",
    "                elif (dem ==3): price_m2.append(np.nan)\n",
    "                elif (dem ==4): bedroom.append(np.nan)\n",
    "                elif (dem ==5): block.append(np.nan)\n",
    "                elif (dem ==6): floor.append(np.nan)\n",
    "                elif (dem ==7): bath_room.append(np.nan)\n",
    "                elif (dem ==8): types.append(np.nan)\n",
    "                elif (dem ==9): Legal_papers.append(np.nan)\n",
    "                elif (dem ==10): id_house.append(np.nan)\n",
    "                elif (dem ==11): furniture_condition.append(np.nan)\n",
    "                elif (dem ==12): main_direction.append(np.nan)\n",
    "                elif (dem ==13): balcony_direction.append(np.nan)\n",
    "                elif (dem ==14): Character.append(np.nan)  \n",
    "        price+=data[len(data)-1]"
   ]
  },
  {
   "cell_type": "code",
   "execution_count": 39,
   "metadata": {},
   "outputs": [],
   "source": [
    "#print(address)\n",
    "#print(estate_condition)\n",
    "#print(acreage)\n",
    "#print(price_m2)\n",
    "#print(bedroom)\n",
    "#print(block)\n",
    "#print(floor)\n",
    "#print(bath_room)\n",
    "#print(types)\n",
    "#print(Legal_papers)\n",
    "#print(id_house)\n",
    "#print(furniture_condition)\n",
    "#print(main_direction)\n",
    "#print(balcony_direction)\n",
    "#print(Character)\n",
    "#print(price)"
   ]
  },
  {
   "cell_type": "code",
   "execution_count": 40,
   "metadata": {},
   "outputs": [
    {
     "data": {
      "text/html": [
       "<div>\n",
       "<style scoped>\n",
       "    .dataframe tbody tr th:only-of-type {\n",
       "        vertical-align: middle;\n",
       "    }\n",
       "\n",
       "    .dataframe tbody tr th {\n",
       "        vertical-align: top;\n",
       "    }\n",
       "\n",
       "    .dataframe thead th {\n",
       "        text-align: right;\n",
       "    }\n",
       "</style>\n",
       "<table border=\"1\" class=\"dataframe\">\n",
       "  <thead>\n",
       "    <tr style=\"text-align: right;\">\n",
       "      <th></th>\n",
       "      <th>DiaChi</th>\n",
       "      <th>TinhTrangBDS</th>\n",
       "      <th>DienTich</th>\n",
       "      <th>Gia/m2</th>\n",
       "      <th>Phongngu</th>\n",
       "      <th>TenPhanKhu</th>\n",
       "      <th>SoTang</th>\n",
       "      <th>PhongTam</th>\n",
       "      <th>Loai</th>\n",
       "      <th>GiayTo</th>\n",
       "      <th>MaCanHo</th>\n",
       "      <th>TinhTrangNoiThat</th>\n",
       "      <th>HuongCuaChinh</th>\n",
       "      <th>HuongBanCong</th>\n",
       "      <th>DacDiem</th>\n",
       "      <th>Gia</th>\n",
       "    </tr>\n",
       "  </thead>\n",
       "  <tbody>\n",
       "  </tbody>\n",
       "</table>\n",
       "</div>"
      ],
      "text/plain": [
       "Empty DataFrame\n",
       "Columns: [DiaChi, TinhTrangBDS, DienTich, Gia/m2, Phongngu, TenPhanKhu, SoTang, PhongTam, Loai, GiayTo, MaCanHo, TinhTrangNoiThat, HuongCuaChinh, HuongBanCong, DacDiem, Gia]\n",
       "Index: []"
      ]
     },
     "execution_count": 40,
     "metadata": {},
     "output_type": "execute_result"
    }
   ],
   "source": [
    "df = {\n",
    "        'DiaChi' : address,\n",
    "        'TinhTrangBDS' : estate_condition,\n",
    "        'DienTich' : acreage,\n",
    "        'Gia/m2'   : price_m2,\n",
    "        'Phongngu': bedroom,\n",
    "      'TenPhanKhu': block,\n",
    "      'SoTang': floor,\n",
    "      'PhongTam':bath_room,\n",
    "      'Loai': types,\n",
    "      'GiayTo': Legal_papers,\n",
    "      'MaCanHo': id_house,\n",
    "      'TinhTrangNoiThat': furniture_condition,\n",
    "      'HuongCuaChinh': main_direction,\n",
    "      'HuongBanCong': balcony_direction,\n",
    "      'DacDiem':Character,\n",
    "      'Gia': price,\n",
    "}\n",
    "df = pd.DataFrame(df)\n",
    "df.to_csv('raw_data.csv',encoding=\"utf-8-sig\",index=False)\n",
    "df"
   ]
  },
  {
   "cell_type": "markdown",
   "metadata": {},
   "source": [
    "## Test"
   ]
  },
  {
   "cell_type": "code",
   "execution_count": 41,
   "metadata": {},
   "outputs": [
    {
     "ename": "ModuleNotFoundError",
     "evalue": "No module named 'geopy'",
     "output_type": "error",
     "traceback": [
      "\u001b[1;31m---------------------------------------------------------------------------\u001b[0m",
      "\u001b[1;31mModuleNotFoundError\u001b[0m                       Traceback (most recent call last)",
      "Cell \u001b[1;32mIn[41], line 1\u001b[0m\n\u001b[1;32m----> 1\u001b[0m \u001b[38;5;28;01mfrom\u001b[39;00m \u001b[38;5;21;01mgeopy\u001b[39;00m\u001b[38;5;21;01m.\u001b[39;00m\u001b[38;5;21;01mgeocoders\u001b[39;00m \u001b[38;5;28;01mimport\u001b[39;00m Nominatim\n\u001b[0;32m      2\u001b[0m geolocator \u001b[38;5;241m=\u001b[39m Nominatim(user_agent\u001b[38;5;241m=\u001b[39m\u001b[38;5;124m\"\u001b[39m\u001b[38;5;124mmy_user_agent\u001b[39m\u001b[38;5;124m\"\u001b[39m)\n\u001b[0;32m      3\u001b[0m city \u001b[38;5;241m=\u001b[39m\u001b[38;5;124m\"\u001b[39m\u001b[38;5;124mQuận 1 , Tp Hồ Chí Minh\u001b[39m\u001b[38;5;124m\"\u001b[39m\n",
      "\u001b[1;31mModuleNotFoundError\u001b[0m: No module named 'geopy'"
     ]
    }
   ],
   "source": [
    "from geopy.geocoders import Nominatim\n",
    "geolocator = Nominatim(user_agent=\"my_user_agent\")\n",
    "city =\"Quận 1 , Tp Hồ Chí Minh\"\n",
    "country =\"Việt Nam\"\n",
    "loc = geolocator.geocode(city+','+ country)\n",
    "print(\"latitude is :-\" ,loc.latitude,\"\\nlongtitude is:-\" ,loc.longitude)"
   ]
  },
  {
   "cell_type": "code",
   "execution_count": null,
   "metadata": {},
   "outputs": [],
   "source": []
  },
  {
   "cell_type": "code",
   "execution_count": null,
   "metadata": {},
   "outputs": [],
   "source": [
    "arr=['a','b']\n",
    "arr+=[]\n",
    "arr"
   ]
  },
  {
   "cell_type": "code",
   "execution_count": null,
   "metadata": {},
   "outputs": [],
   "source": []
  }
 ],
 "metadata": {
  "kernelspec": {
   "display_name": "Python 3",
   "language": "python",
   "name": "python3"
  },
  "language_info": {
   "codemirror_mode": {
    "name": "ipython",
    "version": 3
   },
   "file_extension": ".py",
   "mimetype": "text/x-python",
   "name": "python",
   "nbconvert_exporter": "python",
   "pygments_lexer": "ipython3",
   "version": "3.12.2"
  }
 },
 "nbformat": 4,
 "nbformat_minor": 4
}
