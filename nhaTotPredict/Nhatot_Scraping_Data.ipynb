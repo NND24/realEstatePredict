{
 "cells": [
  {
   "cell_type": "code",
   "execution_count": 3,
   "metadata": {},
   "outputs": [],
   "source": [
    "import pandas as pd \n",
    "import numpy as np\n",
    "from requests_html import HTML\n",
    "from requests_html import HTMLSession\n",
    "from bs4 import BeautifulSoup\n",
    "from selenium import webdriver\n",
    "from selenium.webdriver.chrome.service import Service\n",
    "from selenium.webdriver.chrome.options import Options\n",
    "from webdriver_manager.chrome import ChromeDriverManager\n",
    "import csv"
   ]
  },
  {
   "cell_type": "code",
   "execution_count": 36,
   "metadata": {},
   "outputs": [],
   "source": [
    "# Setup Chrome options\n",
    "chrome_options = Options()\n",
    "chrome_options.add_argument(\"--headless\")  # Run in headless mode\n",
    "chrome_options.add_argument(\"--disable-gpu\")  # Disable GPU acceleration"
   ]
  },
  {
   "cell_type": "markdown",
   "metadata": {},
   "source": [
    "### Crawl links from nhatot.com"
   ]
  },
  {
   "cell_type": "code",
   "execution_count": 9,
   "metadata": {},
   "outputs": [
    {
     "name": "stdout",
     "output_type": "stream",
     "text": [
      "done\n"
     ]
    }
   ],
   "source": [
    "# Initialize the array to store the links\n",
    "arr = []\n",
    "\n",
    "for page in range(1000):\n",
    "        driver = webdriver.Chrome(service=Service(ChromeDriverManager().install()))\n",
    "        url = f\"https://www.nhatot.com/mua-ban-nha-dat?page={page + 1}\"\n",
    "        driver.get(url)\n",
    "\n",
    "        # Wait for JavaScript to render content\n",
    "        driver.implicitly_wait(10)\n",
    "\n",
    "        # Parse the page source with BeautifulSoup\n",
    "        soup = BeautifulSoup(driver.page_source, 'html.parser')\n",
    "\n",
    "        # Find all the links with the specified class\n",
    "        a_tags = soup.find_all(\"a\", class_='AdItem_adItem__gDDQT')\n",
    "\n",
    "        # Append the full link to the array\n",
    "        for a in a_tags:\n",
    "            full_link = \"https://www.nhatot.com\" + a['href']\n",
    "            arr.append(full_link)\n",
    "\n",
    "        driver.quit()\n",
    "\n",
    "# Create a DataFrame from the array\n",
    "df = pd.DataFrame(arr, columns=[\"Links\"])\n",
    "\n",
    "# Export the DataFrame to a CSV file\n",
    "df.to_csv('nhatot.csv', index=True)\n",
    "\n",
    "print(\"done\")"
   ]
  },
  {
   "cell_type": "markdown",
   "metadata": {},
   "source": [
    "## crawl data from each link"
   ]
  },
  {
   "cell_type": "code",
   "execution_count": 5,
   "metadata": {},
   "outputs": [
    {
     "data": {
      "text/html": [
       "<div>\n",
       "<style scoped>\n",
       "    .dataframe tbody tr th:only-of-type {\n",
       "        vertical-align: middle;\n",
       "    }\n",
       "\n",
       "    .dataframe tbody tr th {\n",
       "        vertical-align: top;\n",
       "    }\n",
       "\n",
       "    .dataframe thead th {\n",
       "        text-align: right;\n",
       "    }\n",
       "</style>\n",
       "<table border=\"1\" class=\"dataframe\">\n",
       "  <thead>\n",
       "    <tr style=\"text-align: right;\">\n",
       "      <th></th>\n",
       "      <th>Unnamed: 0</th>\n",
       "      <th>Links</th>\n",
       "    </tr>\n",
       "  </thead>\n",
       "  <tbody>\n",
       "    <tr>\n",
       "      <th>0</th>\n",
       "      <td>0</td>\n",
       "      <td>https://www.nhatot.com/mua-ban-nha-dat-thi-xa-...</td>\n",
       "    </tr>\n",
       "  </tbody>\n",
       "</table>\n",
       "</div>"
      ],
      "text/plain": [
       "   Unnamed: 0                                              Links\n",
       "0           0  https://www.nhatot.com/mua-ban-nha-dat-thi-xa-..."
      ]
     },
     "execution_count": 5,
     "metadata": {},
     "output_type": "execute_result"
    }
   ],
   "source": [
    "frame = pd.read_csv('nhatot1.csv')\n",
    "frame.head()"
   ]
  },
  {
   "cell_type": "markdown",
   "metadata": {},
   "source": [
    "## Test lấy dữ liệu"
   ]
  },
  {
   "cell_type": "code",
   "execution_count": 47,
   "metadata": {},
   "outputs": [
    {
     "name": "stdout",
     "output_type": "stream",
     "text": [
      "3,85 tỷ\n",
      "Tổ 4, KP Long Khánh 3, Phường Tam Phước, Thành phố Biên Hòa, Đồng Nai\n",
      "Hướng cửa chính: Tây\n",
      "36,32 triệu/m²\n",
      "3 phòng\n",
      "Tây\n",
      "3 phòng\n",
      "3\n",
      "Đã có sổ\n",
      "Nhà mặt phố, mặt tiền\n",
      "Nội thất đầy đủ\n"
     ]
    }
   ],
   "source": [
    "from selenium import webdriver\n",
    "from selenium.webdriver.chrome.service import Service\n",
    "from selenium.webdriver.common.by import By\n",
    "from bs4 import BeautifulSoup\n",
    "import time\n",
    "\n",
    "driver = webdriver.Chrome(service=Service(ChromeDriverManager().install()))\n",
    "# Truy cập vào trang web\n",
    "url = 'https://www.nhatot.com/mua-ban-nha-dat-thanh-pho-bien-hoa-dong-nai/119225036.htm#px=SR-stickyad-[PO-1][PL-top]'\n",
    "driver.get(url)\n",
    "\n",
    "# Đợi một chút để trang tải hết nội dung\n",
    "time.sleep(5)\n",
    "\n",
    "# Lấy nội dung của trang\n",
    "page_source = driver.page_source\n",
    "\n",
    "# Đóng trình duyệt\n",
    "driver.quit()\n",
    "\n",
    "# Phân tích cú pháp HTML với BeautifulSoup\n",
    "soup = BeautifulSoup(page_source, 'html.parser')\n",
    "\n",
    "price = soup.find(\"b\", class_='pyhk1dv').text\n",
    "print(price)\n",
    "\n",
    "address = soup.find_all(\"span\", class_=\"bwq0cbs\")\n",
    "print(address[4].text)\n",
    "\n",
    "price_m2 = soup.find(\"span\", itemprop=\"price_m2\").text\n",
    "rooms = soup.find(\"span\", itemprop=\"rooms\").text\n",
    "toilets = soup.find(\"span\", itemprop=\"toilets\").text\n",
    "direction = soup.find(\"span\", itemprop=\"direction\").text\n",
    "floors = soup.find(\"span\", itemprop=\"floors\").text\n",
    "property_legal_document = soup.find(\"span\", itemprop=\"property_legal_document\").text\n",
    "house_type = soup.find(\"span\", itemprop=\"house_type\").text\n",
    "furnishing_sell = soup.find(\"span\", itemprop=\"furnishing_sell\").text\n",
    "width = soup.find(\"span\", itemprop=\"width\").text\n",
    "length = soup.find(\"span\", itemprop=\"length\").text\n",
    "living_size = soup.find(\"span\", itemprop=\"living_size\").text\n",
    "size = soup.find(\"span\", itemprop=\"size\").text\n",
    "\n",
    "\n"
   ]
  },
  {
   "cell_type": "markdown",
   "metadata": {},
   "source": [
    "## Lấy chi tiết data"
   ]
  },
  {
   "cell_type": "code",
   "execution_count": 6,
   "metadata": {},
   "outputs": [
    {
     "name": "stdout",
     "output_type": "stream",
     "text": [
      "Processed URL: https://www.nhatot.com/mua-ban-nha-dat-thi-xa-ben-cat-binh-duong/114120310.htm#px=SR-stickyad-[PO-1][PL-top]\n"
     ]
    }
   ],
   "source": [
    "# Function to initialize WebDriver\n",
    "def initialize_driver():\n",
    "    chrome_options = Options()\n",
    "    chrome_options.add_argument(\"--headless\")  # Run in headless mode to avoid displaying the browser\n",
    "    driver = webdriver.Chrome(service=Service(ChromeDriverManager().install()), options=chrome_options)\n",
    "    return driver\n",
    "\n",
    "# Function to extract data from a single page\n",
    "def extract_data(url):\n",
    "    driver = webdriver.Chrome(service=Service(ChromeDriverManager().install()))\n",
    "    driver.get(url)\n",
    "    time.sleep(5)  # Wait for page to load\n",
    "    page_source = driver.page_source\n",
    "    driver.quit()\n",
    "\n",
    "    soup = BeautifulSoup(page_source, 'html.parser')\n",
    "\n",
    "    try:\n",
    "        price = soup.find(\"b\", class_='pyhk1dv').text\n",
    "    except AttributeError:\n",
    "        price = None\n",
    "\n",
    "    try:\n",
    "        address = soup.find_all(\"span\", class_=\"bwq0cbs\")[4].text\n",
    "    except (IndexError, AttributeError):\n",
    "        address = None\n",
    "\n",
    "    try:\n",
    "        price_m2 = soup.find(\"span\", itemprop=\"price_m2\").text\n",
    "    except AttributeError:\n",
    "        price_m2 = None\n",
    "\n",
    "    try:\n",
    "        rooms = soup.find(\"span\", itemprop=\"rooms\").text\n",
    "    except AttributeError:\n",
    "        rooms = None\n",
    "\n",
    "    try:\n",
    "        toilets = soup.find(\"span\", itemprop=\"toilets\").text\n",
    "    except AttributeError:\n",
    "        toilets = None\n",
    "\n",
    "    try:\n",
    "        direction = soup.find(\"span\", itemprop=\"direction\").text\n",
    "    except AttributeError:\n",
    "        direction = None\n",
    "\n",
    "    try:\n",
    "        floors = soup.find(\"span\", itemprop=\"floors\").text\n",
    "    except AttributeError:\n",
    "        floors = None\n",
    "\n",
    "    try:\n",
    "        property_legal_document = soup.find(\"span\", itemprop=\"property_legal_document\").text\n",
    "    except AttributeError:\n",
    "        property_legal_document = None\n",
    "\n",
    "    try:\n",
    "        house_type = soup.find(\"span\", itemprop=\"house_type\").text\n",
    "    except AttributeError:\n",
    "        house_type = None\n",
    "\n",
    "    try:\n",
    "        furnishing_sell = soup.find(\"span\", itemprop=\"furnishing_sell\").text\n",
    "    except AttributeError:\n",
    "        furnishing_sell = None\n",
    "\n",
    "    try:\n",
    "        width = soup.find(\"span\", itemprop=\"width\").text\n",
    "    except AttributeError:\n",
    "        width = None\n",
    "\n",
    "    try:\n",
    "        length = soup.find(\"span\", itemprop=\"length\").text\n",
    "    except AttributeError:\n",
    "        length = None\n",
    "\n",
    "    try:\n",
    "        living_size = soup.find(\"span\", itemprop=\"living_size\").text\n",
    "    except AttributeError:\n",
    "        living_size = None\n",
    "\n",
    "    try:\n",
    "        size = soup.find(\"span\", itemprop=\"size\").text\n",
    "    except AttributeError:\n",
    "        size = None\n",
    "\n",
    "    return {\n",
    "        \"price\": price,\n",
    "        \"address\": address,\n",
    "        \"price_m2\": price_m2,\n",
    "        \"rooms\": rooms,\n",
    "        \"toilets\": toilets,\n",
    "        \"direction\": direction,\n",
    "        \"floors\": floors,\n",
    "        \"property_legal_document\": property_legal_document,\n",
    "        \"house_type\": house_type,\n",
    "        \"furnishing_sell\": furnishing_sell,\n",
    "        \"width\": width,\n",
    "        \"length\": length,\n",
    "        \"living_size\": living_size,\n",
    "        \"size\": size\n",
    "    }\n",
    "\n",
    "# Function to save data to CSV\n",
    "def save_to_csv(data_list, filename='raw_data.csv'):\n",
    "    keys = data_list[0].keys()  # Use the keys from the first dictionary as headers\n",
    "    with open(filename, 'w', newline='', encoding='utf-8') as output_file:\n",
    "        dict_writer = csv.DictWriter(output_file, fieldnames=keys)\n",
    "        dict_writer.writeheader()\n",
    "        dict_writer.writerows(data_list)\n",
    "\n",
    "# Main function to process all URLs and save results\n",
    "def main():\n",
    "    all_data = []\n",
    "    for url in frame['Links']:\n",
    "        data = extract_data(url)\n",
    "        all_data.append(data)\n",
    "        print(f\"Processed URL: {url}\")\n",
    "\n",
    "    save_to_csv(all_data)\n",
    "\n",
    "if __name__ == \"__main__\":\n",
    "    main()\n"
   ]
  }
 ],
 "metadata": {
  "kernelspec": {
   "display_name": "Python 3",
   "language": "python",
   "name": "python3"
  },
  "language_info": {
   "codemirror_mode": {
    "name": "ipython",
    "version": 3
   },
   "file_extension": ".py",
   "mimetype": "text/x-python",
   "name": "python",
   "nbconvert_exporter": "python",
   "pygments_lexer": "ipython3",
   "version": "3.12.2"
  }
 },
 "nbformat": 4,
 "nbformat_minor": 4
}
